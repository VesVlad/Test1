{
 "cells": [
  {
   "cell_type": "code",
   "execution_count": 51,
   "id": "6ffc53cd-9735-4674-aa2a-434a054a5825",
   "metadata": {},
   "outputs": [],
   "source": [
    "import pandas as pd\n",
    "import numpy as np"
   ]
  },
  {
   "cell_type": "code",
   "execution_count": 46,
   "id": "f8c638d6-d97c-4fb7-ac19-9a886cc34508",
   "metadata": {},
   "outputs": [
    {
     "name": "stderr",
     "output_type": "stream",
     "text": [
      "/var/folders/rv/qghsjdfd2l37tf1dlws37sp40000gn/T/ipykernel_16616/4029932667.py:1: ParserWarning: Falling back to the 'python' engine because the 'c' engine does not support regex separators (separators > 1 char and different from '\\s+' are interpreted as regex); you can avoid this warning by specifying engine='python'.\n",
      "  df = pd.read_csv('ratings.dat', delimiter='::', header=None)\n"
     ]
    }
   ],
   "source": [
    "df = pd.read_csv('ratings.dat', delimiter='::', header=None)"
   ]
  },
  {
   "cell_type": "code",
   "execution_count": 48,
   "id": "2e3d9e73-7bcf-4a7c-a92d-d98e5d3dd175",
   "metadata": {},
   "outputs": [],
   "source": [
    "df.rename(columns={0:'user', 1:'item', 2:'rating', 3:'time'}, inplace=True)"
   ]
  },
  {
   "cell_type": "code",
   "execution_count": null,
   "id": "0d01d3b1-75d7-49b5-a4ee-522a8792553c",
   "metadata": {},
   "outputs": [],
   "source": [
    "np.where"
   ]
  },
  {
   "cell_type": "code",
   "execution_count": 49,
   "id": "f00f8bf8-ae63-42a2-9377-8d5451ec08b2",
   "metadata": {},
   "outputs": [],
   "source": [
    "df.loc[df['rating'] <= 3, 'rating'] = 0\n",
    "df.loc[df['rating'] > 3, 'rating'] = 1\n"
   ]
  },
  {
   "cell_type": "code",
   "execution_count": 316,
   "id": "42184c7b-4450-4972-8b2c-3b29ad4c4693",
   "metadata": {},
   "outputs": [],
   "source": [
    "def MyMetric(y_preds, y_true, k):\n",
    "    res = 0\n",
    "    order = np.argsort(y_preds)[:k]\n",
    "    for i in y_true[order.index]:\n",
    "        if i == 1:\n",
    "            res+=1\n",
    "    return res"
   ]
  },
  {
   "cell_type": "code",
   "execution_count": 317,
   "id": "787fe3b0-7852-474e-8e80-556e5c1f236d",
   "metadata": {},
   "outputs": [],
   "source": [
    "import random"
   ]
  },
  {
   "cell_type": "code",
   "execution_count": 318,
   "id": "597f1438-bc0e-4593-b820-1c8232935c17",
   "metadata": {},
   "outputs": [],
   "source": [
    "generator_ = lambda x: np.array([random.uniform(0, 1) for i in range(x)])"
   ]
  },
  {
   "cell_type": "code",
   "execution_count": 319,
   "id": "56135d7b-79a7-4180-a0e5-181d9fb20826",
   "metadata": {},
   "outputs": [],
   "source": [
    "k = 8\n",
    "gen = generator_(k)"
   ]
  },
  {
   "cell_type": "code",
   "execution_count": 320,
   "id": "39f7fd44-cc84-48ec-a635-ab3de28bee46",
   "metadata": {},
   "outputs": [
    {
     "data": {
      "text/plain": [
       "0"
      ]
     },
     "execution_count": 320,
     "metadata": {},
     "output_type": "execute_result"
    }
   ],
   "source": [
    "MyMetric(df['rating'], gen, k)"
   ]
  },
  {
   "cell_type": "code",
   "execution_count": null,
   "id": "a174e4e3-3b23-443e-b42a-76909a3b97eb",
   "metadata": {},
   "outputs": [],
   "source": [
    "k = 5"
   ]
  },
  {
   "cell_type": "code",
   "execution_count": 246,
   "id": "3dba7a25-99b9-4dd3-9925-dd763d75c044",
   "metadata": {},
   "outputs": [],
   "source": [
    "df['pred'] = 0"
   ]
  },
  {
   "cell_type": "code",
   "execution_count": null,
   "id": "f737202c-3b7b-4108-b237-29ce5469ddfd",
   "metadata": {},
   "outputs": [],
   "source": [
    "df.groupby('user').agg({'pred': MyMetric()})"
   ]
  },
  {
   "cell_type": "code",
   "execution_count": 440,
   "id": "0a1387c1-674d-4acf-bbb1-bd73614789c8",
   "metadata": {},
   "outputs": [],
   "source": [
    "k = 7\n",
    "gen = generator_(k)"
   ]
  },
  {
   "cell_type": "code",
   "execution_count": 441,
   "id": "ea73f153-7475-4e1e-a825-b9997e48efc6",
   "metadata": {},
   "outputs": [],
   "source": [
    "def precision(y_preds, y_true, k):\n",
    "    order = np.argsort(-y_preds)[:k]\n",
    "    return np.sum(y_true[order][:k]) / k\n",
    "    "
   ]
  },
  {
   "cell_type": "code",
   "execution_count": 456,
   "id": "ce0d0496-eaca-46f1-899f-08d54ff80cdf",
   "metadata": {},
   "outputs": [],
   "source": [
    "def recall(y_preds, y_true, k):\n",
    "    order = np.argsort(-y_preds)[:k]\n",
    "    return np.sum(y_true[order][:k]) / np.sum(y_true == 1)\n",
    "    "
   ]
  },
  {
   "cell_type": "code",
   "execution_count": 457,
   "id": "a2792609-8cf1-437a-a3c3-17dfc53daf39",
   "metadata": {},
   "outputs": [
    {
     "data": {
      "text/plain": [
       "0.75"
      ]
     },
     "execution_count": 457,
     "metadata": {},
     "output_type": "execute_result"
    }
   ],
   "source": [
    "precision(gen, df['rating'], 4)"
   ]
  },
  {
   "cell_type": "code",
   "execution_count": 459,
   "id": "003aa68c-d8a0-4c72-aeb4-695bbda9a255",
   "metadata": {},
   "outputs": [
    {
     "data": {
      "text/plain": [
       "5.2148428333284085e-06"
      ]
     },
     "execution_count": 459,
     "metadata": {},
     "output_type": "execute_result"
    }
   ],
   "source": [
    "recall(gen, df['rating'], 4)"
   ]
  },
  {
   "cell_type": "code",
   "execution_count": 460,
   "id": "5fdc84c8-5bdd-4ff6-90c2-4c4b0e8ae10f",
   "metadata": {},
   "outputs": [],
   "source": [
    "df['preds'] = generator_(len(df))"
   ]
  },
  {
   "cell_type": "code",
   "execution_count": 466,
   "id": "e2209895-2ae3-45f0-9e95-375835f755da",
   "metadata": {},
   "outputs": [],
   "source": [
    "df_by_users = df.groupby('user').agg({'rating': list, 'preds': list})"
   ]
  },
  {
   "cell_type": "code",
   "execution_count": 573,
   "id": "ddd982fa-ab66-4a53-aaa0-5077fbb0e897",
   "metadata": {},
   "outputs": [],
   "source": [
    "df_by_users['precision'] = 0\n",
    "df_by_users['recall'] = 0\n",
    "df_by_users['average_precision'] = 0\n",
    "df_by_users['NDCG'] = 0"
   ]
  },
  {
   "cell_type": "code",
   "execution_count": 574,
   "id": "e069251b-73c4-4a51-8354-eb3027aa62fe",
   "metadata": {
    "scrolled": true
   },
   "outputs": [
    {
     "name": "stderr",
     "output_type": "stream",
     "text": [
      "/var/folders/rv/qghsjdfd2l37tf1dlws37sp40000gn/T/ipykernel_16616/1925966187.py:3: RuntimeWarning: invalid value encountered in long_scalars\n",
      "  return np.sum(y_true[order][:k]) / np.sum(y_true == 1)\n"
     ]
    }
   ],
   "source": [
    "for idx, row in df_by_users.iterrows():\n",
    "    df_by_users.loc[idx, 'precision']= precision( np.array(row['preds']), np.array(row['rating']), 5)\n",
    "    df_by_users.loc[idx, 'recall']= recall(np.array(row['preds']), np.array(row['rating']) , 5)\n",
    "    df_by_users.loc[idx, 'average_precision'] = np.sum([precision(np.array(row['preds']), np.array(row['rating']), i) for i in range(1, 6)]) / 5\n",
    "    df_by_users.loc[idx, 'NDCG'] = str(np.array([NDCG(np.array(row['preds']), np.array(row['rating']), i) for i in range(1, 40)]))"
   ]
  },
  {
   "cell_type": "code",
   "execution_count": 572,
   "id": "426d7e8e-8fd9-45c2-81b8-e8928eeab370",
   "metadata": {},
   "outputs": [],
   "source": [
    "def NDCG(y_preds, y_true, k):\n",
    "    dcg = 0\n",
    "    maxdcg = 0\n",
    "    order = np.argsort(-y_preds)[:k]\n",
    "    for i, val in enumerate(y_true[order]):\n",
    "        dcg += int((y_true[order][i] == y_true[i])) / np.log2(i + 2)\n",
    "    # print(y_true)\n",
    "    for i, val in enumerate(y_true[:k]):\n",
    "        maxdcg += 1 / np.log2(i + 2)\n",
    "    return dcg / maxdcg"
   ]
  },
  {
   "cell_type": "code",
   "execution_count": 576,
   "id": "799da6de-d181-49ad-893b-ab1cfe0a2ba1",
   "metadata": {},
   "outputs": [
    {
     "data": {
      "text/plain": [
       "'[1.         0.61314719 0.46927873 0.55850759 0.61643363 0.65777793\\n 0.68913418 0.63414503 0.66003138 0.68166045 0.70007383 0.71598894\\n 0.72991796 0.74223758 0.71057944 0.72217572 0.69488422 0.70579815\\n 0.71579021 0.72498107 0.73347046 0.71180954 0.71996871 0.72758347\\n 0.70854818 0.7158959  0.72280785 0.72932447 0.73548116 0.74130907\\n 0.74683572 0.75208554 0.75708026 0.76183936 0.76638028 0.75214817\\n 0.75663447 0.76093111 0.76505069]'"
      ]
     },
     "execution_count": 576,
     "metadata": {},
     "output_type": "execute_result"
    }
   ],
   "source": [
    "df_by_users['NDCG'][1]"
   ]
  },
  {
   "cell_type": "code",
   "execution_count": 484,
   "id": "26505ac9-a6a5-4323-a590-be4bb2bb6594",
   "metadata": {},
   "outputs": [
    {
     "data": {
      "text/plain": [
       "[1, 2, 3, 4, 5]"
      ]
     },
     "execution_count": 484,
     "metadata": {},
     "output_type": "execute_result"
    }
   ],
   "source": [
    "list(range(1,6))"
   ]
  },
  {
   "cell_type": "code",
   "execution_count": null,
   "id": "d6255f30-41e8-4db7-bf2e-ab8b0d1d37e9",
   "metadata": {},
   "outputs": [],
   "source": []
  }
 ],
 "metadata": {
  "kernelspec": {
   "display_name": "Python 3 (ipykernel)",
   "language": "python",
   "name": "python3"
  },
  "language_info": {
   "codemirror_mode": {
    "name": "ipython",
    "version": 3
   },
   "file_extension": ".py",
   "mimetype": "text/x-python",
   "name": "python",
   "nbconvert_exporter": "python",
   "pygments_lexer": "ipython3",
   "version": "3.10.8"
  }
 },
 "nbformat": 4,
 "nbformat_minor": 5
}
